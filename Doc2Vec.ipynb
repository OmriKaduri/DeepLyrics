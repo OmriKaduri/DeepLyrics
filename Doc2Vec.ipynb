{
 "cells": [
  {
   "cell_type": "code",
   "execution_count": 1,
   "metadata": {},
   "outputs": [],
   "source": [
    "%load_ext autoreload\n",
    "%autoreload 2"
   ]
  },
  {
   "cell_type": "code",
   "execution_count": 4,
   "metadata": {},
   "outputs": [
    {
     "name": "stderr",
     "output_type": "stream",
     "text": [
      "[nltk_data] Downloading package punkt to C:\\Users\\Itay\n",
      "[nltk_data]     Gabbay\\AppData\\Roaming\\nltk_data...\n",
      "[nltk_data]   Package punkt is already up-to-date!\n"
     ]
    },
    {
     "data": {
      "text/plain": [
       "True"
      ]
     },
     "execution_count": 4,
     "metadata": {},
     "output_type": "execute_result"
    }
   ],
   "source": [
    "from text_preprocessing import create_songs_for, preprocess_texts, parse_raw_songs\n",
    "from Midi_preprocessing import preprocess_midi, encode_midi\n",
    "import nltk\n",
    "nltk.download('punkt')"
   ]
  },
  {
   "cell_type": "code",
   "execution_count": 5,
   "metadata": {},
   "outputs": [
    {
     "ename": "NameError",
     "evalue": "name 'all_midi_files' is not defined",
     "output_type": "error",
     "traceback": [
      "\u001b[1;31m---------------------------------------------------------------------------\u001b[0m",
      "\u001b[1;31mNameError\u001b[0m                                 Traceback (most recent call last)",
      "\u001b[1;32m<ipython-input-5-5e04dea7aa25>\u001b[0m in \u001b[0;36m<module>\u001b[1;34m()\u001b[0m\n\u001b[0;32m      6\u001b[0m     \u001b[0msongs\u001b[0m \u001b[1;33m=\u001b[0m \u001b[0mparse_raw_songs\u001b[0m\u001b[1;33m(\u001b[0m\u001b[0mraw_songs\u001b[0m\u001b[1;33m)\u001b[0m\u001b[1;33m\u001b[0m\u001b[0m\n\u001b[0;32m      7\u001b[0m \u001b[1;33m\u001b[0m\u001b[0m\n\u001b[1;32m----> 8\u001b[1;33m     \u001b[0mmidi_files\u001b[0m \u001b[1;33m=\u001b[0m \u001b[0mall_midi_files\u001b[0m\u001b[1;33m(\u001b[0m\u001b[0mmidi_dir\u001b[0m\u001b[1;33m)\u001b[0m\u001b[1;33m\u001b[0m\u001b[0m\n\u001b[0m\u001b[0;32m      9\u001b[0m \u001b[1;33m\u001b[0m\u001b[0m\n\u001b[0;32m     10\u001b[0m     \u001b[0msequences\u001b[0m \u001b[1;33m=\u001b[0m \u001b[0mlist\u001b[0m\u001b[1;33m(\u001b[0m\u001b[1;33m)\u001b[0m\u001b[1;33m\u001b[0m\u001b[0m\n",
      "\u001b[1;31mNameError\u001b[0m: name 'all_midi_files' is not defined"
     ]
    }
   ],
   "source": [
    "midi_dir = \"midi_files\"\n",
    "lyrics_file = \"lyrics_train_set.csv\"\n",
    "with open(lyrics_file, 'r') as raw_lyrics:\n",
    "    raw_songs = raw_lyrics.read().splitlines()\n",
    "\n",
    "    songs = parse_raw_songs(raw_songs)\n",
    "\n",
    "    midi_files = all_midi_files(midi_dir)\n",
    "\n",
    "    sequences = list()\n",
    "    seq_counts = []\n",
    "    for i, song in enumerate(songs):\n",
    "        seq_count = 0\n",
    "        midi_name = song_midi_filename(song)\n",
    "\n",
    "        matched_midi_files = [midi_file for midi_file in midi_files\n",
    "                              if midi_name in midi_file.lower()]\n",
    "\n",
    "        if len(matched_midi_files) != 1:\n",
    "            print(\"OH OH\", len(matched_midi_files), song)\n",
    "            continue\n",
    "\n",
    "        songs[i]['midi_file'] = matched_midi_files[0]\n",
    "\n",
    "        if songs[i]['lyrics'].find('&,,,,') == -1:\n",
    "            songs[i]['lyrics'] = songs[i]['lyrics'] + ' EOS'\n",
    "        else:\n",
    "            songs[i]['lyrics'] = songs[i]['lyrics'].replace('&,,,,', ' EOS')\n",
    "\n",
    "        songs[i]['lyrics'] = ' '.join(nltk.word_tokenize(songs[i]['lyrics']))\n",
    "        songs[i]['lyrics'] = songs[i]['lyrics'].replace('&', 'EOL')\n",
    "\n",
    "        songs[i]['lyrics'] = remove_brackets(songs[i]['lyrics'])\n",
    "\n",
    "        splitted_lyrics = [token for token in nltk.word_tokenize(songs[i]['lyrics']) if token not in string.punctuation]\n",
    "        \n",
    "  \n",
    "        n = 4\n",
    "        splitted_lyrics = (['<s>'] * (n-1)) + splitted_lyrics\n",
    "    \n",
    "        for j in range(0, len(splitted_lyrics) - n):\n",
    "            sequence = splitted_lyrics[j:j+n]\n",
    "            sequences.append(sequence)\n",
    "            seq_count += 1\n",
    "        \n",
    "        seq_counts.append(seq_count)\n",
    "            \n",
    "            \n",
    "all_songs_words = ' '.join(np.hstack(sequences).flatten()) + ' eos'\n",
    "tokenizer = init_tokenizer(all_songs_words)\n",
    "word_index = tokenizer.word_index\n",
    "\n",
    "\n",
    "sequences = [np.array(tokenizer.texts_to_sequences(seq)).flatten() for seq in sequences]\n",
    "\n",
    "sequences = pad_sequences(sequences, maxlen=n)\n",
    "\n",
    "# split into input and output elements\n",
    "sequences = np.array(sequences)\n",
    "X, y = sequences[:,:-1],sequences[:,-1]\n",
    "y = to_categorical(y, num_classes=len(word_index))\n",
    "\n",
    "embeddings_index = {}\n",
    "f = open('glove.6B.300d.txt', encoding=\"utf8\")\n",
    "EMBEDDING_DIM = 300\n",
    "for line in f:\n",
    "    values = line.split()\n",
    "    word = values[0]\n",
    "    coefs = np.asarray(values[1:], dtype='float32')\n",
    "    embeddings_index[word] = coefs\n",
    "f.close()\n",
    "\n",
    "print('Found %s word vectors.' % len(embeddings_index))\n",
    "\n",
    "embedding_matrix = np.zeros((len(word_index) + 1, EMBEDDING_DIM))\n",
    "unk_words = []\n",
    "for word, i in word_index.items():\n",
    "    embedding_vector = embeddings_index.get(word)\n",
    "    if embedding_vector is not None:\n",
    "        # words not found in embedding index will be all-zeros.\n",
    "        embedding_matrix[i] = embedding_vector\n",
    "    else:\n",
    "        unk_words.append(word)\n",
    "\n",
    "print(\"Found\", len(unk_words) + 1, \"Unknown words\")\n",
    "print(unk_words)"
   ]
  },
  {
   "cell_type": "code",
   "execution_count": 6,
   "metadata": {},
   "outputs": [
    {
     "name": "stdout",
     "output_type": "stream",
     "text": [
      "Num of unknown words: 568\n"
     ]
    },
    {
     "name": "stderr",
     "output_type": "stream",
     "text": [
      "  0%|▏                                                                                 | 1/606 [00:00<02:47,  3.62it/s]c:\\users\\itay gabbay\\appdata\\local\\programs\\python\\python36\\lib\\site-packages\\pretty_midi\\pretty_midi.py:100: RuntimeWarning: Tempo, Key or Time signature change events found on non-zero tracks.  This is not a valid type 0 or type 1 MIDI file.  Tempo, Key or Time Signature may be wrong.\n",
      "  RuntimeWarning)\n",
      "100%|████████████████████████████████████████████████████████████████████████████████| 606/606 [12:28<00:00,  2.14s/it]\n"
     ]
    }
   ],
   "source": [
    "songs = create_songs_for()\n",
    "\n",
    "text_tokenizer, text_sequences, embedding_matrix = preprocess_texts([song['lyrics'] for song in songs], 200)\n",
    "midi_tokenizer, midi_sequences = preprocess_midi([song['midi_file'] for song in songs], 300, 1)"
   ]
  },
  {
   "cell_type": "code",
   "execution_count": null,
   "metadata": {},
   "outputs": [],
   "source": [
    "n=4\n",
    "sequences = [np.array(tokenizer.texts_to_sequences(seq)).flatten() for seq in text_sequences]\n",
    "sequences = pad_sequences(sequences, maxlen=n)"
   ]
  }
 ],
 "metadata": {
  "kernelspec": {
   "display_name": "Python 3",
   "language": "python",
   "name": "python3"
  },
  "language_info": {
   "codemirror_mode": {
    "name": "ipython",
    "version": 3
   },
   "file_extension": ".py",
   "mimetype": "text/x-python",
   "name": "python",
   "nbconvert_exporter": "python",
   "pygments_lexer": "ipython3",
   "version": "3.6.4"
  }
 },
 "nbformat": 4,
 "nbformat_minor": 2
}
