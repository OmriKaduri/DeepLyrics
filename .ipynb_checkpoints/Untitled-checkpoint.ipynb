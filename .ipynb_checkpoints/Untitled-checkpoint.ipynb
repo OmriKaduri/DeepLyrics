{
 "cells": [
  {
   "cell_type": "code",
   "execution_count": 1,
   "metadata": {},
   "outputs": [],
   "source": [
    "import pretty_midi\n",
    "import os\n",
    "from os.path import isfile, join\n",
    "import matplotlib.pyplot as plt\n",
    "import numpy as np\n",
    "%matplotlib inline"
   ]
  },
  {
   "cell_type": "code",
   "execution_count": 2,
   "metadata": {},
   "outputs": [],
   "source": [
    "onlyfiles = [join('midi_files', f) for f in os.listdir('midi_files') if isfile(join('midi_files', f))]"
   ]
  },
  {
   "cell_type": "code",
   "execution_count": 3,
   "metadata": {},
   "outputs": [],
   "source": [
    "def encode_song(song):\n",
    "    midi_data = pretty_midi.PrettyMIDI(song)\n",
    "    encoded_song = []\n",
    "    for instrument in midi_data.instruments:\n",
    "        if not instrument.is_drum:\n",
    "            print(instrument.notes)   \n",
    "            "
   ]
  },
  {
   "cell_type": "code",
   "execution_count": 10,
   "metadata": {},
   "outputs": [
    {
     "name": "stdout",
     "output_type": "stream",
     "text": [
      "[ 0.  1.  0.  0.  1.  0.  0.  0.  0.  1.  0.  0.]\n"
     ]
    }
   ],
   "source": [
    "\n",
    "\n",
    "midi = pretty_midi.PrettyMIDI(onlyfiles[0])\n",
    "\n",
    "piano_rolls = []\n",
    "max_seq = 0\n",
    "for inst in midi.instruments:\n",
    "    roll = inst.get_piano_roll(fs=1).T\n",
    "    \n",
    "    if roll.shape[0] > max_seq:\n",
    "        max_seq = roll.shape[0]\n",
    "    piano_rolls.append(roll)\n",
    "    \n",
    "song = np.zeros((max_seq, 12))\n",
    "for seq in range(max_seq):\n",
    "    for roll in piano_rolls:\n",
    "        try:\n",
    "            timestep = roll[seq, :] \n",
    "            for i, value in enumerate(timestep):\n",
    "                if value > 0:\n",
    "                    song[seq][i % 12] = 1\n",
    "        except:\n",
    "            pass\n"
   ]
  },
  {
   "cell_type": "code",
   "execution_count": null,
   "metadata": {},
   "outputs": [],
   "source": []
  }
 ],
 "metadata": {
  "kernelspec": {
   "display_name": "Python 3",
   "language": "python",
   "name": "python3"
  },
  "language_info": {
   "codemirror_mode": {
    "name": "ipython",
    "version": 3
   },
   "file_extension": ".py",
   "mimetype": "text/x-python",
   "name": "python",
   "nbconvert_exporter": "python",
   "pygments_lexer": "ipython3",
   "version": "3.6.8"
  }
 },
 "nbformat": 4,
 "nbformat_minor": 2
}
